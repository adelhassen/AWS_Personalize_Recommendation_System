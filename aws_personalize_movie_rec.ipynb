{
 "cells": [
  {
   "cell_type": "code",
   "execution_count": 24,
   "id": "962f1eb1",
   "metadata": {},
   "outputs": [
    {
     "name": "stdout",
     "output_type": "stream",
     "text": [
      "Requirement already satisfied: fuzzywuzzy[speedup] in /home/ec2-user/anaconda3/envs/python3/lib/python3.6/site-packages (0.18.0)\n",
      "Requirement already satisfied: python-levenshtein>=0.12 in /home/ec2-user/anaconda3/envs/python3/lib/python3.6/site-packages (from fuzzywuzzy[speedup]) (0.12.2)\n",
      "Requirement already satisfied: setuptools in /home/ec2-user/anaconda3/envs/python3/lib/python3.6/site-packages (from python-levenshtein>=0.12->fuzzywuzzy[speedup]) (58.5.3)\n",
      "\u001b[33mWARNING: You are using pip version 21.2.4; however, version 21.3.1 is available.\n",
      "You should consider upgrading via the '/home/ec2-user/anaconda3/envs/python3/bin/python -m pip install --upgrade pip' command.\u001b[0m\n"
     ]
    }
   ],
   "source": [
    "!pip3 install fuzzywuzzy[speedup]"
   ]
  },
  {
   "cell_type": "code",
   "execution_count": 25,
   "id": "93a0f635",
   "metadata": {},
   "outputs": [],
   "source": [
    "import time\n",
    "from time import sleep\n",
    "import json\n",
    "from datetime import datetime\n",
    "import boto3\n",
    "import pandas as pd\n",
    "from fuzzywuzzy import process, fuzz"
   ]
  },
  {
   "cell_type": "code",
   "execution_count": 26,
   "id": "1359e8a1",
   "metadata": {},
   "outputs": [],
   "source": [
    "# Build a map to convert a movie id to the movie title\n",
    "movies = pd.read_csv('data/items.csv', usecols=[0,1])\n",
    "movies['item_id'] = movies['item_id'].astype(str)\n",
    "movie_map = dict(movies.values)"
   ]
  },
  {
   "cell_type": "code",
   "execution_count": 27,
   "id": "2ae60aa8",
   "metadata": {},
   "outputs": [
    {
     "name": "stdin",
     "output_type": "stream",
     "text": [
      " Toy Story\n"
     ]
    },
    {
     "name": "stdout",
     "output_type": "stream",
     "text": [
      "Recommended movies for Toy Story (1995)\n"
     ]
    },
    {
     "data": {
      "text/html": [
       "<div>\n",
       "<style scoped>\n",
       "    .dataframe tbody tr th:only-of-type {\n",
       "        vertical-align: middle;\n",
       "    }\n",
       "\n",
       "    .dataframe tbody tr th {\n",
       "        vertical-align: top;\n",
       "    }\n",
       "\n",
       "    .dataframe thead th {\n",
       "        text-align: right;\n",
       "    }\n",
       "</style>\n",
       "<table border=\"1\" class=\"dataframe\">\n",
       "  <thead>\n",
       "    <tr style=\"text-align: right;\">\n",
       "      <th></th>\n",
       "      <th>Suggested Movies</th>\n",
       "    </tr>\n",
       "  </thead>\n",
       "  <tbody>\n",
       "    <tr>\n",
       "      <th>0</th>\n",
       "      <td>Toy Story 2 (1999)</td>\n",
       "    </tr>\n",
       "    <tr>\n",
       "      <th>1</th>\n",
       "      <td>Willy Wonka &amp; the Chocolate Factory (1971)</td>\n",
       "    </tr>\n",
       "    <tr>\n",
       "      <th>2</th>\n",
       "      <td>Independence Day (a.k.a. ID4) (1996)</td>\n",
       "    </tr>\n",
       "    <tr>\n",
       "      <th>3</th>\n",
       "      <td>Twister (1996)</td>\n",
       "    </tr>\n",
       "    <tr>\n",
       "      <th>4</th>\n",
       "      <td>Mission: Impossible (1996)</td>\n",
       "    </tr>\n",
       "    <tr>\n",
       "      <th>5</th>\n",
       "      <td>Aladdin (1992)</td>\n",
       "    </tr>\n",
       "    <tr>\n",
       "      <th>6</th>\n",
       "      <td>Back to the Future (1985)</td>\n",
       "    </tr>\n",
       "    <tr>\n",
       "      <th>7</th>\n",
       "      <td>Birdcage, The (1996)</td>\n",
       "    </tr>\n",
       "    <tr>\n",
       "      <th>8</th>\n",
       "      <td>Lion King, The (1994)</td>\n",
       "    </tr>\n",
       "    <tr>\n",
       "      <th>9</th>\n",
       "      <td>Rock, The (1996)</td>\n",
       "    </tr>\n",
       "  </tbody>\n",
       "</table>\n",
       "</div>"
      ],
      "text/plain": [
       "                             Suggested Movies\n",
       "0                          Toy Story 2 (1999)\n",
       "1  Willy Wonka & the Chocolate Factory (1971)\n",
       "2        Independence Day (a.k.a. ID4) (1996)\n",
       "3                              Twister (1996)\n",
       "4                  Mission: Impossible (1996)\n",
       "5                              Aladdin (1992)\n",
       "6                   Back to the Future (1985)\n",
       "7                        Birdcage, The (1996)\n",
       "8                       Lion King, The (1994)\n",
       "9                            Rock, The (1996)"
      ]
     },
     "execution_count": 27,
     "metadata": {},
     "output_type": "execute_result"
    }
   ],
   "source": [
    "#Input movie name, use fuzzymatch, then select top match\n",
    "input_movie = str(input())\n",
    "options_movie = process.extract(input_movie, movie_map.items(), scorer = fuzz.partial_token_sort_ratio)\n",
    "chosen_movie = options_movie[0][0][0]\n",
    "\n",
    "# Calling AWS Personalize API using boto3\n",
    "personalizeRt = boto3.client('personalize-runtime')\n",
    "\n",
    "response = personalizeRt.get_recommendations(\n",
    "    campaignArn = 'arn:aws:personalize:us-east-1:602669927281:campaign/movie-SIMS',\n",
    "    itemId = chosen_movie,\n",
    "    numResults = 10\n",
    ")\n",
    "\n",
    "#Get results from API and map to movie name\n",
    "item_list =response['itemList']\n",
    "\n",
    "recommendation_list = []\n",
    "\n",
    "for item in item_list:\n",
    "    title = movie_map[item['itemId']]\n",
    "    recommendation_list.append(title)\n",
    "\n",
    "print(\"Recommended movies for {}\".format(movie_map[chosen_movie]))\n",
    "recommendations_df = pd.DataFrame(recommendation_list, columns = ['Suggested Movies'])\n",
    "recommendations_df.head(10)"
   ]
  },
  {
   "cell_type": "code",
   "execution_count": 35,
   "id": "164c5bb0",
   "metadata": {},
   "outputs": [
    {
     "name": "stdin",
     "output_type": "stream",
     "text": [
      " Inception\n"
     ]
    },
    {
     "name": "stdout",
     "output_type": "stream",
     "text": [
      "Recommended movies for Inception (2010)\n"
     ]
    },
    {
     "data": {
      "text/html": [
       "<div>\n",
       "<style scoped>\n",
       "    .dataframe tbody tr th:only-of-type {\n",
       "        vertical-align: middle;\n",
       "    }\n",
       "\n",
       "    .dataframe tbody tr th {\n",
       "        vertical-align: top;\n",
       "    }\n",
       "\n",
       "    .dataframe thead th {\n",
       "        text-align: right;\n",
       "    }\n",
       "</style>\n",
       "<table border=\"1\" class=\"dataframe\">\n",
       "  <thead>\n",
       "    <tr style=\"text-align: right;\">\n",
       "      <th></th>\n",
       "      <th>Suggested Movies</th>\n",
       "    </tr>\n",
       "  </thead>\n",
       "  <tbody>\n",
       "    <tr>\n",
       "      <th>0</th>\n",
       "      <td>Dark Knight, The (2008)</td>\n",
       "    </tr>\n",
       "    <tr>\n",
       "      <th>1</th>\n",
       "      <td>Interstellar (2014)</td>\n",
       "    </tr>\n",
       "    <tr>\n",
       "      <th>2</th>\n",
       "      <td>Dark Knight Rises, The (2012)</td>\n",
       "    </tr>\n",
       "    <tr>\n",
       "      <th>3</th>\n",
       "      <td>Django Unchained (2012)</td>\n",
       "    </tr>\n",
       "    <tr>\n",
       "      <th>4</th>\n",
       "      <td>Shutter Island (2010)</td>\n",
       "    </tr>\n",
       "    <tr>\n",
       "      <th>5</th>\n",
       "      <td>Inglourious Basterds (2009)</td>\n",
       "    </tr>\n",
       "    <tr>\n",
       "      <th>6</th>\n",
       "      <td>Up (2009)</td>\n",
       "    </tr>\n",
       "    <tr>\n",
       "      <th>7</th>\n",
       "      <td>The Imitation Game (2014)</td>\n",
       "    </tr>\n",
       "    <tr>\n",
       "      <th>8</th>\n",
       "      <td>Avatar (2009)</td>\n",
       "    </tr>\n",
       "    <tr>\n",
       "      <th>9</th>\n",
       "      <td>WALL·E (2008)</td>\n",
       "    </tr>\n",
       "  </tbody>\n",
       "</table>\n",
       "</div>"
      ],
      "text/plain": [
       "                Suggested Movies\n",
       "0        Dark Knight, The (2008)\n",
       "1            Interstellar (2014)\n",
       "2  Dark Knight Rises, The (2012)\n",
       "3        Django Unchained (2012)\n",
       "4          Shutter Island (2010)\n",
       "5    Inglourious Basterds (2009)\n",
       "6                      Up (2009)\n",
       "7      The Imitation Game (2014)\n",
       "8                  Avatar (2009)\n",
       "9                  WALL·E (2008)"
      ]
     },
     "execution_count": 35,
     "metadata": {},
     "output_type": "execute_result"
    }
   ],
   "source": [
    "#Input movie name, use fuzzymatch, then select top match\n",
    "input_movie = str(input())\n",
    "options_movie = process.extract(input_movie, movie_map.items(), scorer = fuzz.partial_token_sort_ratio)\n",
    "chosen_movie = options_movie[0][0][0]\n",
    "\n",
    "# Calling AWS Personalize API using boto3\n",
    "personalizeRt = boto3.client('personalize-runtime')\n",
    "\n",
    "response = personalizeRt.get_recommendations(\n",
    "    campaignArn = 'arn:aws:personalize:us-east-1:602669927281:campaign/movie-SIMS',\n",
    "    itemId = chosen_movie,\n",
    "    numResults = 10\n",
    ")\n",
    "\n",
    "#Get results from API and map to movie name\n",
    "item_list =response['itemList']\n",
    "\n",
    "recommendation_list = []\n",
    "\n",
    "for item in item_list:\n",
    "    title = movie_map[item['itemId']]\n",
    "    recommendation_list.append(title)\n",
    "\n",
    "print(\"Recommended movies for {}\".format(movie_map[chosen_movie]))\n",
    "recommendations_df = pd.DataFrame(recommendation_list, columns = ['Suggested Movies'])\n",
    "recommendations_df.head(10)"
   ]
  },
  {
   "cell_type": "code",
   "execution_count": null,
   "id": "1b1ca893",
   "metadata": {},
   "outputs": [],
   "source": []
  }
 ],
 "metadata": {
  "kernelspec": {
   "display_name": "conda_python3",
   "language": "python",
   "name": "conda_python3"
  },
  "language_info": {
   "codemirror_mode": {
    "name": "ipython",
    "version": 3
   },
   "file_extension": ".py",
   "mimetype": "text/x-python",
   "name": "python",
   "nbconvert_exporter": "python",
   "pygments_lexer": "ipython3",
   "version": "3.6.13"
  }
 },
 "nbformat": 4,
 "nbformat_minor": 5
}
